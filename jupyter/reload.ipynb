{
 "cells": [
  {
   "cell_type": "code",
   "execution_count": 1,
   "metadata": {},
   "outputs": [
    {
     "name": "stdout",
     "output_type": "stream",
     "text": [
      "education 0 16\n",
      "gender 1 2\n",
      "marital_status 2 7\n",
      "native_country 3 42\n",
      "occupation 4 15\n",
      "race 5 5\n",
      "relationship 6 6\n",
      "workclass 7 9\n",
      "0 16\n",
      "1 2\n",
      "2 7\n",
      "3 42\n",
      "4 15\n",
      "5 5\n",
      "6 6\n",
      "7 9\n"
     ]
    }
   ],
   "source": [
    "import pandas as pd\n",
    "import torch\n",
    "from pathlib import Path\n",
    "from sklearn.preprocessing import LabelEncoder\n",
    "from ndf import make_category_list\n",
    "from ndf import TabularNumCatDataset\n",
    "from torch.utils.data import DataLoader\n",
    "from ndf import Numeric, TabularLayer\n",
    "from ndf import NeuralDecisionForest, Forest\n",
    "from ndf import ClassificationMetric\n",
    "import torchmetrics\n",
    "import matplotlib.pyplot as plt\n",
    "from IPython.display import clear_output\n",
    "import torch.nn.functional as F\n",
    "import matplotlib.pyplot as plt\n",
    "from pathlib import Path\n",
    "import numpy as np\n",
    "from tqdm import tqdm\n",
    "data_dir = Path(\"./../data\")\n",
    "df = pd.read_csv(data_dir.joinpath(\"./adult_train.csv\"))\n",
    "test = pd.read_csv(data_dir.joinpath(\"./adult_test.csv\"))\n",
    "test\n",
    "\n",
    "\n",
    "num_cols = list(df.select_dtypes(\"number\"))\n",
    "target_col = [\"income_bracket\"]\n",
    "\n",
    "\n",
    "num_cols = list(df.select_dtypes(\"number\"))\n",
    "target_col = [\"income_bracket\"]\n",
    "cat_cols = sorted(list(set(list(df.columns)).difference(set(num_cols + target_col))))\n",
    "total_cols = num_cols + target_col\n",
    "data = df[total_cols]\n",
    "y = df[target_col]\n",
    "numX = df[num_cols]\n",
    "catX = df[cat_cols]\n",
    "\n",
    "\n",
    "testNumX = test[num_cols]\n",
    "testCatX = test[cat_cols]\n",
    "testY = test[target_col]\n",
    "\n",
    "\n",
    "cat_cols = list(catX)\n",
    "cat_list = make_category_list(catX, cat_cols)\n",
    "\n",
    "\n",
    "num_info = Numeric(input_dim=numX.shape[1], output_dim=10, activation=\"relu\", last_logit=True, layers=[25])\n",
    "tabularLayer = TabularLayer(num_info, cat_list)\n",
    "\n",
    "\n",
    "feature_layer = tabularLayer\n",
    "feature_dim = tabularLayer.output_dim\n",
    "forest_param = dict(\n",
    "    n_tree=5, tree_depth=3, n_in_feature=feature_dim, tree_feature_rate=0.5, n_class=2, jointly_training=True\n",
    ")\n",
    "forest = Forest(**forest_param)\n",
    "nnForest = NeuralDecisionForest(feature_layer=feature_layer, forest=forest)\n",
    "\n",
    "\n",
    "def prepare_optim(model, lr):\n",
    "    params = [p for p in model.parameters() if p.requires_grad]\n",
    "    return torch.optim.Adam(params, lr=lr, weight_decay=1e-5)\n",
    "\n",
    "optim = prepare_optim(nnForest, 1e-5)"
   ]
  },
  {
   "cell_type": "code",
   "execution_count": 2,
   "metadata": {},
   "outputs": [],
   "source": [
    "import re \n",
    "save_dir = Path(\"./../model_v2\")\n",
    "weightdict = dict(torch.load(save_dir.joinpath(\"./model.pt\")))\n",
    "foodict = {k: v for k, v in weightdict.items() if re.search('category',k) is not None }"
   ]
  },
  {
   "cell_type": "code",
   "execution_count": 3,
   "metadata": {},
   "outputs": [
    {
     "name": "stdout",
     "output_type": "stream",
     "text": [
      "['feature_layer.num_emb_layer.0.weight', 'feature_layer.num_emb_layer.0.bias', 'feature_layer.num_emb_layer.2.weight', 'feature_layer.num_emb_layer.2.bias', 'feature_layer.cat_emb_layer.module_list.0.weight', 'feature_layer.cat_emb_layer.module_list.1.weight', 'feature_layer.cat_emb_layer.module_list.2.weight', 'feature_layer.cat_emb_layer.module_list.3.weight', 'feature_layer.cat_emb_layer.module_list.4.weight', 'feature_layer.cat_emb_layer.module_list.5.weight', 'feature_layer.cat_emb_layer.module_list.6.weight', 'feature_layer.cat_emb_layer.module_list.7.weight', 'feature_layer.numeric.0.weight', 'feature_layer.numeric.0.bias', 'feature_layer.numeric.2.weight', 'feature_layer.numeric.2.bias', 'feature_layer.category.module_list.0.weight', 'feature_layer.category.module_list.1.weight', 'feature_layer.category.module_list.2.weight', 'feature_layer.category.module_list.3.weight', 'feature_layer.category.module_list.4.weight', 'feature_layer.category.module_list.5.weight', 'feature_layer.category.module_list.6.weight', 'feature_layer.category.module_list.7.weight', 'forest.trees.0.feature_mask', 'forest.trees.0.pi', 'forest.trees.0.decision.linear1.weight', 'forest.trees.0.decision.linear1.bias', 'forest.trees.1.feature_mask', 'forest.trees.1.pi', 'forest.trees.1.decision.linear1.weight', 'forest.trees.1.decision.linear1.bias', 'forest.trees.2.feature_mask', 'forest.trees.2.pi', 'forest.trees.2.decision.linear1.weight', 'forest.trees.2.decision.linear1.bias', 'forest.trees.3.feature_mask', 'forest.trees.3.pi', 'forest.trees.3.decision.linear1.weight', 'forest.trees.3.decision.linear1.bias', 'forest.trees.4.feature_mask', 'forest.trees.4.pi', 'forest.trees.4.decision.linear1.weight', 'forest.trees.4.decision.linear1.bias']\n"
     ]
    }
   ],
   "source": [
    "print(list(weightdict.keys()))"
   ]
  },
  {
   "cell_type": "code",
   "execution_count": 4,
   "metadata": {},
   "outputs": [
    {
     "name": "stdout",
     "output_type": "stream",
     "text": [
      "feature_layer.category.module_list.0.weight / torch.Size([16, 4])\n",
      "feature_layer.category.module_list.1.weight / torch.Size([2, 2])\n",
      "feature_layer.category.module_list.2.weight / torch.Size([7, 3])\n",
      "feature_layer.category.module_list.3.weight / torch.Size([42, 7])\n",
      "feature_layer.category.module_list.4.weight / torch.Size([15, 4])\n",
      "feature_layer.category.module_list.5.weight / torch.Size([5, 3])\n",
      "feature_layer.category.module_list.6.weight / torch.Size([6, 3])\n",
      "feature_layer.category.module_list.7.weight / torch.Size([9, 3])\n"
     ]
    }
   ],
   "source": [
    "for key , mat in foodict.items() :\n",
    "    print(key, \"/\",mat.shape)"
   ]
  },
  {
   "cell_type": "code",
   "execution_count": 5,
   "metadata": {},
   "outputs": [
    {
     "name": "stdout",
     "output_type": "stream",
     "text": [
      "module_list.0.weight / torch.Size([16, 4])\n",
      "module_list.1.weight / torch.Size([2, 2])\n",
      "module_list.2.weight / torch.Size([7, 3])\n",
      "module_list.3.weight / torch.Size([42, 7])\n",
      "module_list.4.weight / torch.Size([15, 4])\n",
      "module_list.5.weight / torch.Size([5, 3])\n",
      "module_list.6.weight / torch.Size([6, 3])\n",
      "module_list.7.weight / torch.Size([9, 3])\n"
     ]
    }
   ],
   "source": [
    "for k , v in dict(nnForest.feature_layer.cat_emb_layer.state_dict()).items() :\n",
    "    print(k,\"/\",v.size())"
   ]
  },
  {
   "cell_type": "code",
   "execution_count": 6,
   "metadata": {},
   "outputs": [],
   "source": [
    "#nnForest.feature_layer.cat_emb_layer.load_state_dict(torch.load(save_dir.joinpath(\"./model.pt\")))"
   ]
  },
  {
   "cell_type": "code",
   "execution_count": 7,
   "metadata": {},
   "outputs": [],
   "source": [
    "save_dir = Path(\"./../model_v2\")\n",
    "save_dir.mkdir(exist_ok=True)\n",
    "nnForest.load(save_dir.joinpath(\"./model.pt\"))\n",
    "optim.load_state_dict(torch.load(save_dir.joinpath(\"./optim.pt\")))"
   ]
  },
  {
   "cell_type": "code",
   "execution_count": null,
   "metadata": {},
   "outputs": [],
   "source": []
  },
  {
   "cell_type": "code",
   "execution_count": null,
   "metadata": {},
   "outputs": [],
   "source": []
  }
 ],
 "metadata": {
  "interpreter": {
   "hash": "5b465412307b7668296daf78385c90232ab589794bc4bbfa955c266854cbcc3b"
  },
  "kernelspec": {
   "display_name": "Python 3.8.12 64-bit ('ndf': conda)",
   "language": "python",
   "name": "python3"
  },
  "language_info": {
   "codemirror_mode": {
    "name": "ipython",
    "version": 3
   },
   "file_extension": ".py",
   "mimetype": "text/x-python",
   "name": "python",
   "nbconvert_exporter": "python",
   "pygments_lexer": "ipython3",
   "version": "3.8.12"
  },
  "orig_nbformat": 4
 },
 "nbformat": 4,
 "nbformat_minor": 2
}
