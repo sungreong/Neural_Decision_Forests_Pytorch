{
 "cells": [
  {
   "cell_type": "code",
   "execution_count": 5,
   "metadata": {},
   "outputs": [],
   "source": [
    "import torch\n",
    "from torch import nn \n",
    "random_input = torch.randn(size=(100,16))"
   ]
  },
  {
   "cell_type": "code",
   "execution_count": 6,
   "metadata": {},
   "outputs": [],
   "source": [
    "params = dict(n_tree=5,\n",
    "     tree_depth=3,\n",
    "     n_in_feature=5,\n",
    "     tree_feature_rate=0.1,\n",
    "     n_class=2,\n",
    "     jointly_training=True)"
   ]
  },
  {
   "cell_type": "code",
   "execution_count": 11,
   "metadata": {},
   "outputs": [],
   "source": [
    "n_in_feature = random_input.shape[1]\n",
    "depth = 3 \n",
    "used_feature_rate = 0.4\n",
    "n_class = 2 \n",
    "n_used_feature = int(n_in_feature*used_feature_rate)"
   ]
  },
  {
   "cell_type": "code",
   "execution_count": null,
   "metadata": {},
   "outputs": [],
   "source": []
  }
 ],
 "metadata": {
  "interpreter": {
   "hash": "73615673a24b196790e917c7839e5f6021828cdacc9266d5cb2ad80ddd7580b0"
  },
  "kernelspec": {
   "display_name": "Python 3.8.12 64-bit ('xai': conda)",
   "language": "python",
   "name": "python3"
  },
  "language_info": {
   "codemirror_mode": {
    "name": "ipython",
    "version": 3
   },
   "file_extension": ".py",
   "mimetype": "text/x-python",
   "name": "python",
   "nbconvert_exporter": "python",
   "pygments_lexer": "ipython3",
   "version": "3.8.12"
  },
  "orig_nbformat": 4
 },
 "nbformat": 4,
 "nbformat_minor": 2
}
