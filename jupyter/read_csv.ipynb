{
 "cells": [
  {
   "cell_type": "code",
   "execution_count": 5,
   "metadata": {},
   "outputs": [],
   "source": [
    "import pandas as pd\n",
    "import numpy as np "
   ]
  },
  {
   "cell_type": "code",
   "execution_count": 6,
   "metadata": {},
   "outputs": [
    {
     "data": {
      "text/plain": [
       "32561"
      ]
     },
     "execution_count": 6,
     "metadata": {},
     "output_type": "execute_result"
    }
   ],
   "source": [
    "df = pd.read_csv(\"./../data/adult_train.csv\")\n",
    "len(df)"
   ]
  },
  {
   "cell_type": "code",
   "execution_count": 7,
   "metadata": {},
   "outputs": [],
   "source": [
    "use_columns = list(df)"
   ]
  },
  {
   "cell_type": "code",
   "execution_count": 8,
   "metadata": {},
   "outputs": [
    {
     "name": "stdout",
     "output_type": "stream",
     "text": [
      "[8029, 19061, 23839, 9434, 12974, 2848, 22326, 24112, 14769, 7431, 23213, 25118, 11624, 5634, 1070, 9683, 28349, 9912, 26456, 2431, 10097, 11758, 21530, 23692, 23797, 24177, 27515, 23289, 15391, 8963, 18031, 18107, 21347, 16772, 4008, 15741, 4299, 22342, 16590, 30691, 9948, 19717, 13705, 13371, 22738, 13290, 30683, 25757, 10435, 22688, 22136, 2417, 21575, 24504, 29573, 7105, 11255, 25104, 19667, 17796, 17503, 10200, 15789, 9577, 30355, 6627, 15330, 25377, 29940, 15234, 31545, 30250, 14926, 21663, 26831, 14424, 2621, 12727, 3149, 2414, 32350, 14436, 31546, 30877, 31547, 2443, 31642, 20108, 3900, 349, 28836, 12509, 6425, 26086, 15505, 5079, 19865, 2179, 31972, 29353, 0]\n"
     ]
    }
   ],
   "source": [
    "select_rows = np.random.choice(list(np.arange(len(df))), size= 100 ).tolist() +[0]\n",
    "skip_rows = set(list(np.arange(len(df)))).difference(set(select_rows))\n",
    "print(select_rows)"
   ]
  },
  {
   "cell_type": "code",
   "execution_count": 1,
   "metadata": {},
   "outputs": [],
   "source": [
    "from ndf.dataset import TabularBigDataSet , TabularBigDataSet_v2 , TabularNumDataset , TabularBigDataSet_v3"
   ]
  },
  {
   "cell_type": "code",
   "execution_count": 2,
   "metadata": {},
   "outputs": [],
   "source": [
    "batch_size =128\n",
    "num_workers = 10\n",
    "from torch.utils.data import DataLoader"
   ]
  },
  {
   "cell_type": "code",
   "execution_count": 3,
   "metadata": {},
   "outputs": [],
   "source": [
    "path = \"./../data/adult_numeric.csv\"\n",
    "total_rows = 32561\n",
    "dataset = TabularBigDataSet(path, total_rows)\n",
    "from torch.utils.data import DataLoader\n",
    "loader = DataLoader(dataset , batch_size=batch_size , shuffle=True,num_workers =num_workers)"
   ]
  },
  {
   "cell_type": "code",
   "execution_count": 4,
   "metadata": {},
   "outputs": [],
   "source": [
    "path = \"./../data/adult_numeric.csv\"\n",
    "total_rows = 32561\n",
    "dataset = TabularBigDataSet_v3(path, total_rows,256)\n",
    "# while True :\n",
    "#     print(next(dataset.iterator))"
   ]
  },
  {
   "cell_type": "code",
   "execution_count": 5,
   "metadata": {},
   "outputs": [
    {
     "data": {
      "text/html": [
       "<div>\n",
       "<style scoped>\n",
       "    .dataframe tbody tr th:only-of-type {\n",
       "        vertical-align: middle;\n",
       "    }\n",
       "\n",
       "    .dataframe tbody tr th {\n",
       "        vertical-align: top;\n",
       "    }\n",
       "\n",
       "    .dataframe thead th {\n",
       "        text-align: right;\n",
       "    }\n",
       "</style>\n",
       "<table border=\"1\" class=\"dataframe\">\n",
       "  <thead>\n",
       "    <tr style=\"text-align: right;\">\n",
       "      <th></th>\n",
       "      <th>age</th>\n",
       "      <th>fnlwgt</th>\n",
       "      <th>education_num</th>\n",
       "      <th>capital_gain</th>\n",
       "      <th>capital_loss</th>\n",
       "      <th>hours_per_week</th>\n",
       "    </tr>\n",
       "  </thead>\n",
       "  <tbody>\n",
       "    <tr>\n",
       "      <th>0</th>\n",
       "      <td>39</td>\n",
       "      <td>77516</td>\n",
       "      <td>13</td>\n",
       "      <td>2174</td>\n",
       "      <td>0</td>\n",
       "      <td>40</td>\n",
       "    </tr>\n",
       "    <tr>\n",
       "      <th>1</th>\n",
       "      <td>50</td>\n",
       "      <td>83311</td>\n",
       "      <td>13</td>\n",
       "      <td>0</td>\n",
       "      <td>0</td>\n",
       "      <td>13</td>\n",
       "    </tr>\n",
       "    <tr>\n",
       "      <th>2</th>\n",
       "      <td>38</td>\n",
       "      <td>215646</td>\n",
       "      <td>9</td>\n",
       "      <td>0</td>\n",
       "      <td>0</td>\n",
       "      <td>40</td>\n",
       "    </tr>\n",
       "    <tr>\n",
       "      <th>3</th>\n",
       "      <td>53</td>\n",
       "      <td>234721</td>\n",
       "      <td>7</td>\n",
       "      <td>0</td>\n",
       "      <td>0</td>\n",
       "      <td>40</td>\n",
       "    </tr>\n",
       "    <tr>\n",
       "      <th>4</th>\n",
       "      <td>28</td>\n",
       "      <td>338409</td>\n",
       "      <td>13</td>\n",
       "      <td>0</td>\n",
       "      <td>0</td>\n",
       "      <td>40</td>\n",
       "    </tr>\n",
       "    <tr>\n",
       "      <th>...</th>\n",
       "      <td>...</td>\n",
       "      <td>...</td>\n",
       "      <td>...</td>\n",
       "      <td>...</td>\n",
       "      <td>...</td>\n",
       "      <td>...</td>\n",
       "    </tr>\n",
       "    <tr>\n",
       "      <th>32556</th>\n",
       "      <td>27</td>\n",
       "      <td>257302</td>\n",
       "      <td>12</td>\n",
       "      <td>0</td>\n",
       "      <td>0</td>\n",
       "      <td>38</td>\n",
       "    </tr>\n",
       "    <tr>\n",
       "      <th>32557</th>\n",
       "      <td>40</td>\n",
       "      <td>154374</td>\n",
       "      <td>9</td>\n",
       "      <td>0</td>\n",
       "      <td>0</td>\n",
       "      <td>40</td>\n",
       "    </tr>\n",
       "    <tr>\n",
       "      <th>32558</th>\n",
       "      <td>58</td>\n",
       "      <td>151910</td>\n",
       "      <td>9</td>\n",
       "      <td>0</td>\n",
       "      <td>0</td>\n",
       "      <td>40</td>\n",
       "    </tr>\n",
       "    <tr>\n",
       "      <th>32559</th>\n",
       "      <td>22</td>\n",
       "      <td>201490</td>\n",
       "      <td>9</td>\n",
       "      <td>0</td>\n",
       "      <td>0</td>\n",
       "      <td>20</td>\n",
       "    </tr>\n",
       "    <tr>\n",
       "      <th>32560</th>\n",
       "      <td>52</td>\n",
       "      <td>287927</td>\n",
       "      <td>9</td>\n",
       "      <td>15024</td>\n",
       "      <td>0</td>\n",
       "      <td>40</td>\n",
       "    </tr>\n",
       "  </tbody>\n",
       "</table>\n",
       "<p>32561 rows × 6 columns</p>\n",
       "</div>"
      ],
      "text/plain": [
       "       age  fnlwgt  education_num  capital_gain  capital_loss  hours_per_week\n",
       "0       39   77516             13          2174             0              40\n",
       "1       50   83311             13             0             0              13\n",
       "2       38  215646              9             0             0              40\n",
       "3       53  234721              7             0             0              40\n",
       "4       28  338409             13             0             0              40\n",
       "...    ...     ...            ...           ...           ...             ...\n",
       "32556   27  257302             12             0             0              38\n",
       "32557   40  154374              9             0             0              40\n",
       "32558   58  151910              9             0             0              40\n",
       "32559   22  201490              9             0             0              20\n",
       "32560   52  287927              9         15024             0              40\n",
       "\n",
       "[32561 rows x 6 columns]"
      ]
     },
     "execution_count": 5,
     "metadata": {},
     "output_type": "execute_result"
    }
   ],
   "source": [
    "import pandas as pd\n",
    "pd.read_csv(\"./../data/adult_numeric.csv\")"
   ]
  },
  {
   "cell_type": "code",
   "execution_count": 6,
   "metadata": {},
   "outputs": [
    {
     "name": "stdout",
     "output_type": "stream",
     "text": [
      "255\n",
      "   age  fnlwgt  education_num  capital_gain  capital_loss  hours_per_week\n",
      "0   35  129305              9             0             0              40\n",
      "1   44  162028             10             0          2415               6\n",
      "2   34  227689             11             0             0              64\n",
      "3   23  197904              9             0             0              35\n",
      "4   31   41493             13             0             0              45\n",
      "(256, 6)\n",
      "CPU times: user 44 ms, sys: 0 ns, total: 44 ms\n",
      "Wall time: 44.4 ms\n"
     ]
    },
    {
     "data": {
      "text/plain": [
       "torch.Size([256, 6])"
      ]
     },
     "execution_count": 6,
     "metadata": {},
     "output_type": "execute_result"
    }
   ],
   "source": [
    "%%time\n",
    "path = \"./../data/adult_numeric.csv\"\n",
    "total_rows = 32561\n",
    "dataset = TabularBigDataSet_v3(path, total_rows,256)\n",
    "dataset.batch().shape"
   ]
  },
  {
   "cell_type": "code",
   "execution_count": 7,
   "metadata": {},
   "outputs": [
    {
     "name": "stdout",
     "output_type": "stream",
     "text": [
      "255\n",
      "   age  fnlwgt  education_num  capital_gain  capital_loss  hours_per_week\n",
      "0   19  316868             10             0             0              30\n",
      "1   90   51744              9             0          2206              40\n",
      "2   24  278130              9             0             0              40\n",
      "3   55   98545              6             0             0              40\n",
      "4   52   25826              6             0          1887              47\n",
      "(256, 6)\n"
     ]
    },
    {
     "data": {
      "text/plain": [
       "tensor([[1.9000e+01, 3.1687e+05, 1.0000e+01, 0.0000e+00, 0.0000e+00, 3.0000e+01],\n",
       "        [9.0000e+01, 5.1744e+04, 9.0000e+00, 0.0000e+00, 2.2060e+03, 4.0000e+01],\n",
       "        [2.4000e+01, 2.7813e+05, 9.0000e+00, 0.0000e+00, 0.0000e+00, 4.0000e+01],\n",
       "        ...,\n",
       "        [4.8000e+01, 2.6808e+05, 1.0000e+01, 0.0000e+00, 0.0000e+00, 4.0000e+01],\n",
       "        [3.9000e+01, 1.1150e+05, 1.2000e+01, 0.0000e+00, 0.0000e+00, 2.0000e+01],\n",
       "        [5.2000e+01, 2.8793e+05, 9.0000e+00, 1.5024e+04, 0.0000e+00, 4.0000e+01]])"
      ]
     },
     "execution_count": 7,
     "metadata": {},
     "output_type": "execute_result"
    }
   ],
   "source": [
    "dataset.batch()"
   ]
  },
  {
   "cell_type": "code",
   "execution_count": 41,
   "metadata": {},
   "outputs": [
    {
     "name": "stdout",
     "output_type": "stream",
     "text": [
      "CPU times: user 24 ms, sys: 76 ms, total: 100 ms\n",
      "Wall time: 3.16 s\n"
     ]
    }
   ],
   "source": [
    "%%time\n",
    "_=next(iter(loader))"
   ]
  },
  {
   "cell_type": "code",
   "execution_count": 8,
   "metadata": {},
   "outputs": [],
   "source": [
    "path = \"./../data/adult_numeric.csv\"\n",
    "total_rows = 32561\n",
    "dataset = TabularBigDataSet_v2(path, total_rows)\n",
    "loader = DataLoader(dataset , batch_size=batch_size , shuffle=True,num_workers =num_workers)"
   ]
  },
  {
   "cell_type": "code",
   "execution_count": null,
   "metadata": {},
   "outputs": [],
   "source": []
  },
  {
   "cell_type": "code",
   "execution_count": 51,
   "metadata": {},
   "outputs": [],
   "source": [
    "from io import StringIO\n",
    "def load_with_buffer(filename, bool_skipped, **kwargs):\n",
    "    s_buf = StringIO()\n",
    "    with open(filename) as file:\n",
    "        count = -1\n",
    "        for line in file:\n",
    "            count += 1\n",
    "            if bool_skipped[count]:\n",
    "                continue\n",
    "            s_buf.write(line)\n",
    "    s_buf.seek(0)\n",
    "    df = pd.read_csv(s_buf, **kwargs)\n",
    "    return df\n",
    "\n",
    "df = pd.read_csv(path)\n",
    "\n",
    "import torch"
   ]
  },
  {
   "cell_type": "code",
   "execution_count": 13,
   "metadata": {},
   "outputs": [
    {
     "data": {
      "text/plain": [
       "5"
      ]
     },
     "execution_count": 13,
     "metadata": {},
     "output_type": "execute_result"
    }
   ],
   "source": [
    "100 // 20"
   ]
  },
  {
   "cell_type": "code",
   "execution_count": 54,
   "metadata": {},
   "outputs": [],
   "source": [
    "import random \n",
    "\n",
    "class IndexIter  :\n",
    "    def __init__(self, idx_list , batch_size) :\n",
    "        self.batch_size = batch_size\n",
    "        self.idx_list = idx_list\n",
    "        self.batch_count = len(idx_list) // batch_size\n",
    "        self.remain_count = len(idx_list) -  ((len(idx_list) // batch_size) * batch_size)\n",
    "        self._call_count = 0\n",
    "        self.__iter__()\n",
    "    \n",
    "    def __next__(self,) :\n",
    "        if self.batch_count <= self._call_count :\n",
    "            raise StopIteration \n",
    "        select_idxs = self.chunks[self._call_count]\n",
    "        self._call_count += 1\n",
    "        return select_idxs\n",
    "\n",
    "    def __iter__(self,) :\n",
    "        random.shuffle(self.idx_list)\n",
    "        self.chunks = [self.idx_list[i:i+self.batch_size] for i in range(0, len(self.idx_list) , self.batch_size)]\n",
    "        self._call_count = 0 \n",
    "        return self \n",
    "    "
   ]
  },
  {
   "cell_type": "code",
   "execution_count": 58,
   "metadata": {},
   "outputs": [
    {
     "ename": "StopIteration",
     "evalue": "",
     "output_type": "error",
     "traceback": [
      "\u001b[0;31m---------------------------------------------------------------------------\u001b[0m",
      "\u001b[0;31mStopIteration\u001b[0m                             Traceback (most recent call last)",
      "\u001b[0;32m/tmp/ipykernel_29337/3419776781.py\u001b[0m in \u001b[0;36m<module>\u001b[0;34m\u001b[0m\n\u001b[1;32m      1\u001b[0m \u001b[0mco\u001b[0m \u001b[0;34m=\u001b[0m \u001b[0mIndexIter\u001b[0m\u001b[0;34m(\u001b[0m\u001b[0midx_list\u001b[0m\u001b[0;34m=\u001b[0m\u001b[0mnp\u001b[0m\u001b[0;34m.\u001b[0m\u001b[0marange\u001b[0m\u001b[0;34m(\u001b[0m\u001b[0;36m1001\u001b[0m\u001b[0;34m)\u001b[0m\u001b[0;34m.\u001b[0m\u001b[0mtolist\u001b[0m\u001b[0;34m(\u001b[0m\u001b[0;34m)\u001b[0m\u001b[0;34m,\u001b[0m \u001b[0mbatch_size\u001b[0m\u001b[0;34m=\u001b[0m\u001b[0;36m10\u001b[0m\u001b[0;34m)\u001b[0m\u001b[0;34m\u001b[0m\u001b[0;34m\u001b[0m\u001b[0m\n\u001b[1;32m      2\u001b[0m \u001b[0;32mwhile\u001b[0m \u001b[0;32mTrue\u001b[0m \u001b[0;34m:\u001b[0m\u001b[0;34m\u001b[0m\u001b[0;34m\u001b[0m\u001b[0m\n\u001b[0;32m----> 3\u001b[0;31m     \u001b[0mnext\u001b[0m\u001b[0;34m(\u001b[0m\u001b[0mco\u001b[0m\u001b[0;34m)\u001b[0m\u001b[0;34m\u001b[0m\u001b[0;34m\u001b[0m\u001b[0m\n\u001b[0m",
      "\u001b[0;32m/tmp/ipykernel_29337/2766171304.py\u001b[0m in \u001b[0;36m__next__\u001b[0;34m(self)\u001b[0m\n\u001b[1;32m     12\u001b[0m     \u001b[0;32mdef\u001b[0m \u001b[0m__next__\u001b[0m\u001b[0;34m(\u001b[0m\u001b[0mself\u001b[0m\u001b[0;34m,\u001b[0m\u001b[0;34m)\u001b[0m \u001b[0;34m:\u001b[0m\u001b[0;34m\u001b[0m\u001b[0;34m\u001b[0m\u001b[0m\n\u001b[1;32m     13\u001b[0m         \u001b[0;32mif\u001b[0m \u001b[0mself\u001b[0m\u001b[0;34m.\u001b[0m\u001b[0mbatch_count\u001b[0m \u001b[0;34m<=\u001b[0m \u001b[0mself\u001b[0m\u001b[0;34m.\u001b[0m\u001b[0m_call_count\u001b[0m \u001b[0;34m:\u001b[0m\u001b[0;34m\u001b[0m\u001b[0;34m\u001b[0m\u001b[0m\n\u001b[0;32m---> 14\u001b[0;31m             \u001b[0;32mraise\u001b[0m \u001b[0mStopIteration\u001b[0m\u001b[0;34m\u001b[0m\u001b[0;34m\u001b[0m\u001b[0m\n\u001b[0m\u001b[1;32m     15\u001b[0m         \u001b[0mselect_idxs\u001b[0m \u001b[0;34m=\u001b[0m \u001b[0mself\u001b[0m\u001b[0;34m.\u001b[0m\u001b[0mchunks\u001b[0m\u001b[0;34m[\u001b[0m\u001b[0mself\u001b[0m\u001b[0;34m.\u001b[0m\u001b[0m_call_count\u001b[0m\u001b[0;34m]\u001b[0m\u001b[0;34m\u001b[0m\u001b[0;34m\u001b[0m\u001b[0m\n\u001b[1;32m     16\u001b[0m         \u001b[0mself\u001b[0m\u001b[0;34m.\u001b[0m\u001b[0m_call_count\u001b[0m \u001b[0;34m+=\u001b[0m \u001b[0;36m1\u001b[0m\u001b[0;34m\u001b[0m\u001b[0;34m\u001b[0m\u001b[0m\n",
      "\u001b[0;31mStopIteration\u001b[0m: "
     ]
    }
   ],
   "source": [
    "co = IndexIter(idx_list=np.arange(1001).tolist(), batch_size=10)\n",
    "while True :\n",
    "    next(co)"
   ]
  },
  {
   "cell_type": "code",
   "execution_count": 56,
   "metadata": {},
   "outputs": [
    {
     "name": "stdout",
     "output_type": "stream",
     "text": [
      "10\n",
      "10\n",
      "10\n",
      "10\n",
      "10\n",
      "10\n",
      "10\n",
      "10\n",
      "10\n",
      "10\n",
      "10\n",
      "10\n",
      "10\n",
      "10\n",
      "10\n",
      "10\n",
      "10\n",
      "10\n",
      "10\n",
      "10\n",
      "10\n",
      "10\n",
      "10\n",
      "10\n",
      "10\n",
      "10\n",
      "10\n",
      "10\n",
      "10\n",
      "10\n",
      "10\n",
      "10\n",
      "10\n",
      "10\n",
      "10\n",
      "10\n",
      "10\n",
      "10\n",
      "10\n",
      "10\n",
      "10\n",
      "10\n",
      "10\n",
      "10\n",
      "10\n",
      "10\n",
      "10\n",
      "10\n",
      "10\n",
      "10\n",
      "10\n",
      "10\n",
      "10\n",
      "10\n",
      "10\n",
      "10\n",
      "10\n",
      "10\n",
      "10\n",
      "10\n",
      "10\n",
      "10\n",
      "10\n",
      "10\n",
      "10\n",
      "10\n",
      "10\n",
      "10\n",
      "10\n",
      "10\n",
      "10\n",
      "10\n",
      "10\n",
      "10\n",
      "10\n",
      "10\n",
      "10\n",
      "10\n",
      "10\n",
      "10\n",
      "10\n",
      "10\n",
      "10\n",
      "10\n",
      "10\n",
      "10\n",
      "10\n",
      "10\n",
      "10\n",
      "10\n",
      "10\n",
      "10\n",
      "10\n",
      "10\n",
      "10\n",
      "10\n",
      "10\n",
      "10\n",
      "10\n",
      "10\n"
     ]
    }
   ],
   "source": [
    "co = IndexIter(idx_list=np.arange(1001).tolist(), batch_size=10)\n",
    "for i in co :\n",
    "    print(len(i))"
   ]
  },
  {
   "cell_type": "code",
   "execution_count": 48,
   "metadata": {},
   "outputs": [
    {
     "name": "stdout",
     "output_type": "stream",
     "text": [
      "[722, 919, 205, 143, 917, 574, 646, 447, 632, 530, 364, 145, 811, 83, 416, 538, 810, 226, 874, 664, 711, 471, 320, 247, 864, 79, 601, 768, 82, 610, 818, 437, 366, 640, 516, 49, 600, 703, 225, 156, 262, 734, 263, 68, 467, 555, 167, 897, 185, 855, 806, 58, 127, 2, 254, 918, 964, 812, 461, 788, 719, 924, 418, 40, 799, 889, 277, 796, 150, 885, 661, 260, 223, 419, 829, 626, 369, 896, 70, 421, 620, 6, 701, 497, 126, 54, 266, 102, 146, 797, 396, 88, 857, 244, 881, 740, 930, 73, 376, 733]\n",
      "[443, 949, 941, 172, 909, 238, 221, 794, 581, 705, 413, 858, 99, 342, 450, 603, 976, 31, 332, 953, 823, 303, 971, 75, 52, 111, 709, 643, 890, 322, 564, 790, 588, 586, 161, 503, 969, 739, 314, 482, 546, 511, 567, 987, 774, 773, 775, 341, 302, 292, 154, 694, 832, 85, 291, 813, 224, 531, 273, 326, 990, 954, 801, 210, 868, 499, 220, 916, 182, 907, 685, 162, 493, 879, 34, 470, 882, 256, 483, 676, 189, 985, 804, 638, 802, 403, 350, 222, 560, 110, 834, 830, 349, 784, 193, 282, 982, 112, 285, 869]\n",
      "[946, 891, 929, 520, 94, 575, 550, 295, 763, 236, 609, 599, 611, 458, 977, 234, 67, 903, 669, 25, 422, 693, 20, 862, 134, 761, 621, 397, 227, 159, 898, 950, 451, 704, 692, 935, 231, 121, 61, 686, 645, 571, 309, 844, 435, 984, 706, 565, 170, 140, 24, 212, 398, 770, 101, 87, 633, 744, 183, 240, 682, 217, 778, 216, 887, 639, 428, 584, 769, 176, 445, 668, 856, 3, 958, 188, 697, 980, 304, 871, 523, 116, 195, 699, 401, 627, 96, 441, 961, 344, 893, 19, 873, 452, 934, 307, 658, 999, 51, 107]\n",
      "[120, 248, 570, 783, 347, 988, 540, 577, 527, 105, 536, 151, 679, 472, 129, 510, 562, 306, 956, 117, 508, 932, 86, 594, 552, 374, 509, 732, 730, 569, 453, 407, 426, 492, 343, 436, 751, 456, 432, 554, 243, 731, 596, 544, 124, 39, 287, 707, 298, 937, 747, 690, 241, 50, 255, 125, 931, 687, 965, 677, 21, 414, 33, 835, 337, 948, 411, 850, 515, 405, 753, 27, 108, 360, 728, 870, 375, 358, 36, 269, 267, 597, 718, 235, 786, 566, 152, 239, 630, 619, 771, 666, 271, 425, 393, 803, 45, 348, 904, 556]\n",
      "[995, 853, 187, 336, 502, 329, 712, 410, 996, 839, 915, 606, 808, 541, 384, 202, 177, 872, 365, 892, 573, 612, 585, 297, 324, 561, 325, 229, 9, 955, 166, 465, 330, 657, 420, 114, 278, 119, 149, 867, 475, 281, 201, 615, 5, 578, 729, 991, 476, 650, 652, 992, 905, 888, 670, 415, 925, 279, 559, 382, 74, 986, 944, 71, 100, 993, 301, 474, 351, 792, 280, 957, 800, 860, 745, 551, 576, 311, 629, 250, 59, 793, 817, 57, 532, 649, 487, 494, 876, 526, 463, 847, 106, 765, 30, 943, 199, 912, 76, 702]\n",
      "[12, 820, 385, 103, 284, 346, 64, 395, 618, 264, 290, 55, 387, 514, 647, 466, 842, 65, 525, 275, 245, 130, 363, 89, 507, 945, 259, 513, 605, 833, 357, 595, 994, 168, 104, 433, 338, 684, 495, 906, 80, 37, 8, 200, 617, 519, 505, 190, 933, 390, 361, 777, 215, 863, 973, 409, 922, 335, 755, 230, 894, 211, 989, 708, 394, 373, 602, 22, 41, 662, 604, 840, 524, 653, 807, 81, 173, 44, 717, 914, 543, 691, 233, 98, 968, 942, 268, 496, 368, 752, 831, 47, 789, 723, 970, 97, 72, 7, 17, 533]\n",
      "[828, 698, 952, 772, 671, 681, 118, 593, 861, 665, 762, 721, 522, 251, 90, 498, 553, 192, 340, 462, 454, 674, 715, 960, 616, 680, 389, 63, 132, 735, 35, 624, 791, 506, 84, 877, 580, 359, 257, 766, 590, 43, 974, 175, 726, 13, 469, 838, 171, 521, 144, 843, 265, 927, 377, 814, 142, 457, 713, 512, 975, 353, 608, 534, 826, 203, 197, 700, 362, 26, 557, 293, 749, 406, 641, 656, 10, 431, 423, 539, 637, 642, 528, 147, 866, 207, 408, 417, 228, 427, 962, 249, 449, 854, 153, 549, 288, 983, 400, 0]\n",
      "[383, 911, 683, 4, 644, 439, 232, 966, 270, 438, 547, 827, 815, 636, 318, 272, 545, 764, 746, 655, 736, 155, 479, 131, 852, 628, 294, 518, 760, 258, 328, 841, 998, 767, 444, 910, 69, 689, 978, 379, 163, 15, 563, 160, 448, 920, 663, 756, 899, 981, 837, 489, 501, 136, 139, 938, 902, 490, 178, 517, 440, 947, 48, 180, 246, 478, 165, 191, 672, 352, 141, 276, 60, 333, 743, 77, 392, 537, 289, 315, 459, 859, 164, 572, 742, 429, 354, 926, 695, 206, 997, 38, 591, 460, 28, 113, 237, 316, 659, 724]\n",
      "[875, 446, 972, 391, 878, 589, 757, 614, 651, 886, 486, 370, 940, 587, 378, 798, 529, 936, 785, 648, 372, 816, 822, 93, 779, 66, 196, 399, 286, 819, 696, 308, 157, 845, 135, 923, 741, 204, 967, 219, 323, 300, 186, 727, 750, 738, 913, 209, 625, 169, 535, 214, 678, 635, 468, 710, 133, 312, 675, 16, 296, 500, 776, 327, 62, 491, 402, 622, 455, 725, 158, 218, 928, 558, 434, 667, 213, 339, 386, 825, 123, 174, 184, 345, 412, 548, 464, 137, 299, 115, 317, 884, 568, 242, 371, 780, 851, 481, 442, 53]\n",
      "[198, 880, 18, 613, 138, 865, 809, 959, 607, 305, 334, 208, 846, 42, 181, 78, 92, 895, 23, 592, 46, 582, 849, 253, 356, 758, 634, 109, 95, 14, 631, 404, 883, 56, 963, 321, 122, 388, 598, 484, 381, 714, 781, 331, 908, 737, 319, 821, 542, 782, 29, 488, 951, 473, 274, 367, 754, 148, 313, 261, 795, 380, 688, 787, 579, 979, 504, 824, 660, 11, 128, 583, 477, 716, 805, 673, 900, 901, 480, 759, 355, 430, 91, 748, 424, 654, 623, 939, 283, 252, 1, 836, 194, 32, 720, 485, 310, 179, 848, 921]\n"
     ]
    }
   ],
   "source": [
    "for i in co :\n",
    "    print(i)"
   ]
  },
  {
   "cell_type": "code",
   "execution_count": 3,
   "metadata": {},
   "outputs": [
    {
     "ename": "KeyboardInterrupt",
     "evalue": "",
     "output_type": "error",
     "traceback": [
      "\u001b[0;31m---------------------------------------------------------------------------\u001b[0m",
      "\u001b[0;31mKeyboardInterrupt\u001b[0m                         Traceback (most recent call last)",
      "\u001b[0;32m/tmp/ipykernel_29337/3959911338.py\u001b[0m in \u001b[0;36m<module>\u001b[0;34m\u001b[0m\n\u001b[1;32m      5\u001b[0m \u001b[0mKFOLD\u001b[0m \u001b[0;34m=\u001b[0m \u001b[0mKFold\u001b[0m\u001b[0;34m(\u001b[0m\u001b[0mn_splits\u001b[0m\u001b[0;34m=\u001b[0m\u001b[0;36m100\u001b[0m\u001b[0;34m)\u001b[0m\u001b[0;34m\u001b[0m\u001b[0;34m\u001b[0m\u001b[0m\n\u001b[1;32m      6\u001b[0m \u001b[0;32mwhile\u001b[0m \u001b[0;32mTrue\u001b[0m \u001b[0;34m:\u001b[0m\u001b[0;34m\u001b[0m\u001b[0;34m\u001b[0m\u001b[0m\n\u001b[0;32m----> 7\u001b[0;31m     \u001b[0md\u001b[0m \u001b[0;34m=\u001b[0m \u001b[0mnext\u001b[0m\u001b[0;34m(\u001b[0m\u001b[0mKFOLD\u001b[0m\u001b[0;34m.\u001b[0m\u001b[0msplit\u001b[0m\u001b[0;34m(\u001b[0m\u001b[0mnp\u001b[0m\u001b[0;34m.\u001b[0m\u001b[0marange\u001b[0m\u001b[0;34m(\u001b[0m\u001b[0mlen\u001b[0m\u001b[0;34m(\u001b[0m\u001b[0mdf\u001b[0m\u001b[0;34m)\u001b[0m\u001b[0;34m)\u001b[0m\u001b[0;34m,\u001b[0m\u001b[0my\u001b[0m\u001b[0;34m=\u001b[0m\u001b[0;32mNone\u001b[0m\u001b[0;34m)\u001b[0m\u001b[0;34m)\u001b[0m\u001b[0;34m\u001b[0m\u001b[0;34m\u001b[0m\u001b[0m\n\u001b[0m",
      "\u001b[0;32m~/miniconda3/envs/ndf/lib/python3.8/site-packages/sklearn/model_selection/_split.py\u001b[0m in \u001b[0;36msplit\u001b[0;34m(self, X, y, groups)\u001b[0m\n\u001b[1;32m    338\u001b[0m             )\n\u001b[1;32m    339\u001b[0m \u001b[0;34m\u001b[0m\u001b[0m\n\u001b[0;32m--> 340\u001b[0;31m         \u001b[0;32mfor\u001b[0m \u001b[0mtrain\u001b[0m\u001b[0;34m,\u001b[0m \u001b[0mtest\u001b[0m \u001b[0;32min\u001b[0m \u001b[0msuper\u001b[0m\u001b[0;34m(\u001b[0m\u001b[0;34m)\u001b[0m\u001b[0;34m.\u001b[0m\u001b[0msplit\u001b[0m\u001b[0;34m(\u001b[0m\u001b[0mX\u001b[0m\u001b[0;34m,\u001b[0m \u001b[0my\u001b[0m\u001b[0;34m,\u001b[0m \u001b[0mgroups\u001b[0m\u001b[0;34m)\u001b[0m\u001b[0;34m:\u001b[0m\u001b[0;34m\u001b[0m\u001b[0;34m\u001b[0m\u001b[0m\n\u001b[0m\u001b[1;32m    341\u001b[0m             \u001b[0;32myield\u001b[0m \u001b[0mtrain\u001b[0m\u001b[0;34m,\u001b[0m \u001b[0mtest\u001b[0m\u001b[0;34m\u001b[0m\u001b[0;34m\u001b[0m\u001b[0m\n\u001b[1;32m    342\u001b[0m \u001b[0;34m\u001b[0m\u001b[0m\n",
      "\u001b[0;32m~/miniconda3/envs/ndf/lib/python3.8/site-packages/sklearn/model_selection/_split.py\u001b[0m in \u001b[0;36msplit\u001b[0;34m(self, X, y, groups)\u001b[0m\n\u001b[1;32m     84\u001b[0m         \u001b[0mX\u001b[0m\u001b[0;34m,\u001b[0m \u001b[0my\u001b[0m\u001b[0;34m,\u001b[0m \u001b[0mgroups\u001b[0m \u001b[0;34m=\u001b[0m \u001b[0mindexable\u001b[0m\u001b[0;34m(\u001b[0m\u001b[0mX\u001b[0m\u001b[0;34m,\u001b[0m \u001b[0my\u001b[0m\u001b[0;34m,\u001b[0m \u001b[0mgroups\u001b[0m\u001b[0;34m)\u001b[0m\u001b[0;34m\u001b[0m\u001b[0;34m\u001b[0m\u001b[0m\n\u001b[1;32m     85\u001b[0m         \u001b[0mindices\u001b[0m \u001b[0;34m=\u001b[0m \u001b[0mnp\u001b[0m\u001b[0;34m.\u001b[0m\u001b[0marange\u001b[0m\u001b[0;34m(\u001b[0m\u001b[0m_num_samples\u001b[0m\u001b[0;34m(\u001b[0m\u001b[0mX\u001b[0m\u001b[0;34m)\u001b[0m\u001b[0;34m)\u001b[0m\u001b[0;34m\u001b[0m\u001b[0;34m\u001b[0m\u001b[0m\n\u001b[0;32m---> 86\u001b[0;31m         \u001b[0;32mfor\u001b[0m \u001b[0mtest_index\u001b[0m \u001b[0;32min\u001b[0m \u001b[0mself\u001b[0m\u001b[0;34m.\u001b[0m\u001b[0m_iter_test_masks\u001b[0m\u001b[0;34m(\u001b[0m\u001b[0mX\u001b[0m\u001b[0;34m,\u001b[0m \u001b[0my\u001b[0m\u001b[0;34m,\u001b[0m \u001b[0mgroups\u001b[0m\u001b[0;34m)\u001b[0m\u001b[0;34m:\u001b[0m\u001b[0;34m\u001b[0m\u001b[0;34m\u001b[0m\u001b[0m\n\u001b[0m\u001b[1;32m     87\u001b[0m             \u001b[0mtrain_index\u001b[0m \u001b[0;34m=\u001b[0m \u001b[0mindices\u001b[0m\u001b[0;34m[\u001b[0m\u001b[0mnp\u001b[0m\u001b[0;34m.\u001b[0m\u001b[0mlogical_not\u001b[0m\u001b[0;34m(\u001b[0m\u001b[0mtest_index\u001b[0m\u001b[0;34m)\u001b[0m\u001b[0;34m]\u001b[0m\u001b[0;34m\u001b[0m\u001b[0;34m\u001b[0m\u001b[0m\n\u001b[1;32m     88\u001b[0m             \u001b[0mtest_index\u001b[0m \u001b[0;34m=\u001b[0m \u001b[0mindices\u001b[0m\u001b[0;34m[\u001b[0m\u001b[0mtest_index\u001b[0m\u001b[0;34m]\u001b[0m\u001b[0;34m\u001b[0m\u001b[0;34m\u001b[0m\u001b[0m\n",
      "\u001b[0;32m~/miniconda3/envs/ndf/lib/python3.8/site-packages/sklearn/model_selection/_split.py\u001b[0m in \u001b[0;36m_iter_test_masks\u001b[0;34m(self, X, y, groups)\u001b[0m\n\u001b[1;32m     96\u001b[0m         \u001b[0mBy\u001b[0m \u001b[0mdefault\u001b[0m\u001b[0;34m,\u001b[0m \u001b[0mdelegates\u001b[0m \u001b[0mto\u001b[0m \u001b[0m_iter_test_indices\u001b[0m\u001b[0;34m(\u001b[0m\u001b[0mX\u001b[0m\u001b[0;34m,\u001b[0m \u001b[0my\u001b[0m\u001b[0;34m,\u001b[0m \u001b[0mgroups\u001b[0m\u001b[0;34m)\u001b[0m\u001b[0;34m\u001b[0m\u001b[0;34m\u001b[0m\u001b[0m\n\u001b[1;32m     97\u001b[0m         \"\"\"\n\u001b[0;32m---> 98\u001b[0;31m         \u001b[0;32mfor\u001b[0m \u001b[0mtest_index\u001b[0m \u001b[0;32min\u001b[0m \u001b[0mself\u001b[0m\u001b[0;34m.\u001b[0m\u001b[0m_iter_test_indices\u001b[0m\u001b[0;34m(\u001b[0m\u001b[0mX\u001b[0m\u001b[0;34m,\u001b[0m \u001b[0my\u001b[0m\u001b[0;34m,\u001b[0m \u001b[0mgroups\u001b[0m\u001b[0;34m)\u001b[0m\u001b[0;34m:\u001b[0m\u001b[0;34m\u001b[0m\u001b[0;34m\u001b[0m\u001b[0m\n\u001b[0m\u001b[1;32m     99\u001b[0m             \u001b[0mtest_mask\u001b[0m \u001b[0;34m=\u001b[0m \u001b[0mnp\u001b[0m\u001b[0;34m.\u001b[0m\u001b[0mzeros\u001b[0m\u001b[0;34m(\u001b[0m\u001b[0m_num_samples\u001b[0m\u001b[0;34m(\u001b[0m\u001b[0mX\u001b[0m\u001b[0;34m)\u001b[0m\u001b[0;34m,\u001b[0m \u001b[0mdtype\u001b[0m\u001b[0;34m=\u001b[0m\u001b[0mbool\u001b[0m\u001b[0;34m)\u001b[0m\u001b[0;34m\u001b[0m\u001b[0;34m\u001b[0m\u001b[0m\n\u001b[1;32m    100\u001b[0m             \u001b[0mtest_mask\u001b[0m\u001b[0;34m[\u001b[0m\u001b[0mtest_index\u001b[0m\u001b[0;34m]\u001b[0m \u001b[0;34m=\u001b[0m \u001b[0;32mTrue\u001b[0m\u001b[0;34m\u001b[0m\u001b[0;34m\u001b[0m\u001b[0m\n",
      "\u001b[0;32m~/miniconda3/envs/ndf/lib/python3.8/site-packages/sklearn/model_selection/_split.py\u001b[0m in \u001b[0;36m_iter_test_indices\u001b[0;34m(self, X, y, groups)\u001b[0m\n\u001b[1;32m    437\u001b[0m     \u001b[0;32mdef\u001b[0m \u001b[0m_iter_test_indices\u001b[0m\u001b[0;34m(\u001b[0m\u001b[0mself\u001b[0m\u001b[0;34m,\u001b[0m \u001b[0mX\u001b[0m\u001b[0;34m,\u001b[0m \u001b[0my\u001b[0m\u001b[0;34m=\u001b[0m\u001b[0;32mNone\u001b[0m\u001b[0;34m,\u001b[0m \u001b[0mgroups\u001b[0m\u001b[0;34m=\u001b[0m\u001b[0;32mNone\u001b[0m\u001b[0;34m)\u001b[0m\u001b[0;34m:\u001b[0m\u001b[0;34m\u001b[0m\u001b[0;34m\u001b[0m\u001b[0m\n\u001b[1;32m    438\u001b[0m         \u001b[0mn_samples\u001b[0m \u001b[0;34m=\u001b[0m \u001b[0m_num_samples\u001b[0m\u001b[0;34m(\u001b[0m\u001b[0mX\u001b[0m\u001b[0;34m)\u001b[0m\u001b[0;34m\u001b[0m\u001b[0;34m\u001b[0m\u001b[0m\n\u001b[0;32m--> 439\u001b[0;31m         \u001b[0mindices\u001b[0m \u001b[0;34m=\u001b[0m \u001b[0mnp\u001b[0m\u001b[0;34m.\u001b[0m\u001b[0marange\u001b[0m\u001b[0;34m(\u001b[0m\u001b[0mn_samples\u001b[0m\u001b[0;34m)\u001b[0m\u001b[0;34m\u001b[0m\u001b[0;34m\u001b[0m\u001b[0m\n\u001b[0m\u001b[1;32m    440\u001b[0m         \u001b[0;32mif\u001b[0m \u001b[0mself\u001b[0m\u001b[0;34m.\u001b[0m\u001b[0mshuffle\u001b[0m\u001b[0;34m:\u001b[0m\u001b[0;34m\u001b[0m\u001b[0;34m\u001b[0m\u001b[0m\n\u001b[1;32m    441\u001b[0m             \u001b[0mcheck_random_state\u001b[0m\u001b[0;34m(\u001b[0m\u001b[0mself\u001b[0m\u001b[0;34m.\u001b[0m\u001b[0mrandom_state\u001b[0m\u001b[0;34m)\u001b[0m\u001b[0;34m.\u001b[0m\u001b[0mshuffle\u001b[0m\u001b[0;34m(\u001b[0m\u001b[0mindices\u001b[0m\u001b[0;34m)\u001b[0m\u001b[0;34m\u001b[0m\u001b[0;34m\u001b[0m\u001b[0m\n",
      "\u001b[0;31mKeyboardInterrupt\u001b[0m: "
     ]
    }
   ],
   "source": [
    "from sklearn.model_selection import train_test_split , StratifiedKFold , StratifiedShuffleSplit , KFold\n",
    "import pandas as pd  , numpy as np\n",
    "df = pd.read_csv(\"./../data/adult_numeric.csv\")\n",
    "total_rows = 32561\n",
    "KFOLD = KFold(n_splits=100)\n",
    "while True :\n",
    "    d = next(KFOLD.split(np.arange(len(df)),y=None))"
   ]
  },
  {
   "cell_type": "code",
   "execution_count": 7,
   "metadata": {},
   "outputs": [],
   "source": [
    "a, b = next(KFOLD.split(np.arange(len(df))))"
   ]
  },
  {
   "cell_type": "code",
   "execution_count": 11,
   "metadata": {},
   "outputs": [
    {
     "data": {
      "text/plain": [
       "32235"
      ]
     },
     "execution_count": 11,
     "metadata": {},
     "output_type": "execute_result"
    }
   ],
   "source": [
    "len(a)"
   ]
  },
  {
   "cell_type": "code",
   "execution_count": 10,
   "metadata": {},
   "outputs": [
    {
     "data": {
      "text/plain": [
       "326"
      ]
     },
     "execution_count": 10,
     "metadata": {},
     "output_type": "execute_result"
    }
   ],
   "source": [
    "len(b)"
   ]
  },
  {
   "cell_type": "code",
   "execution_count": 54,
   "metadata": {},
   "outputs": [
    {
     "name": "stdout",
     "output_type": "stream",
     "text": [
      "CPU times: user 24 ms, sys: 0 ns, total: 24 ms\n",
      "Wall time: 20.1 ms\n"
     ]
    },
    {
     "data": {
      "text/plain": [
       "tensor([[3.4987e+04, 1.0000e+01, 0.0000e+00, 0.0000e+00, 5.4000e+01],\n",
       "        [1.1574e+05, 1.0000e+01, 0.0000e+00, 0.0000e+00, 4.0000e+01],\n",
       "        [2.0534e+05, 7.0000e+00, 0.0000e+00, 0.0000e+00, 4.0000e+01],\n",
       "        [3.1693e+05, 8.0000e+00, 0.0000e+00, 0.0000e+00, 2.0000e+01],\n",
       "        [1.1753e+05, 1.0000e+01, 0.0000e+00, 0.0000e+00, 5.4000e+01],\n",
       "        [1.8886e+05, 1.0000e+01, 0.0000e+00, 0.0000e+00, 4.0000e+01],\n",
       "        [2.7207e+04, 7.0000e+00, 0.0000e+00, 0.0000e+00, 4.5000e+01],\n",
       "        [1.6182e+05, 9.0000e+00, 0.0000e+00, 0.0000e+00, 4.0000e+01],\n",
       "        [2.2183e+05, 1.3000e+01, 0.0000e+00, 0.0000e+00, 4.5000e+01],\n",
       "        [2.4267e+05, 1.0000e+01, 0.0000e+00, 0.0000e+00, 4.0000e+01],\n",
       "        [1.0581e+05, 9.0000e+00, 0.0000e+00, 0.0000e+00, 4.0000e+01],\n",
       "        [1.8839e+05, 1.4000e+01, 0.0000e+00, 0.0000e+00, 3.8000e+01],\n",
       "        [4.0183e+05, 1.0000e+01, 0.0000e+00, 0.0000e+00, 4.8000e+01],\n",
       "        [2.0878e+05, 9.0000e+00, 0.0000e+00, 0.0000e+00, 4.0000e+01],\n",
       "        [1.6400e+05, 9.0000e+00, 0.0000e+00, 0.0000e+00, 2.0000e+01],\n",
       "        [1.0985e+05, 1.3000e+01, 0.0000e+00, 0.0000e+00, 2.1000e+01],\n",
       "        [2.4265e+05, 1.0000e+01, 0.0000e+00, 0.0000e+00, 4.8000e+01],\n",
       "        [9.3589e+04, 9.0000e+00, 0.0000e+00, 0.0000e+00, 4.0000e+01],\n",
       "        [1.2184e+05, 9.0000e+00, 0.0000e+00, 0.0000e+00, 4.0000e+01],\n",
       "        [1.3144e+05, 1.3000e+01, 0.0000e+00, 0.0000e+00, 4.0000e+01],\n",
       "        [2.0100e+05, 9.0000e+00, 0.0000e+00, 0.0000e+00, 4.5000e+01],\n",
       "        [1.5219e+05, 9.0000e+00, 0.0000e+00, 0.0000e+00, 4.0000e+01],\n",
       "        [1.6329e+05, 1.5000e+01, 0.0000e+00, 0.0000e+00, 2.0000e+00],\n",
       "        [1.8560e+05, 9.0000e+00, 0.0000e+00, 0.0000e+00, 4.0000e+01],\n",
       "        [1.6807e+05, 9.0000e+00, 0.0000e+00, 0.0000e+00, 3.0000e+01],\n",
       "        [3.1302e+05, 9.0000e+00, 4.3860e+03, 0.0000e+00, 4.0000e+01],\n",
       "        [6.1270e+04, 9.0000e+00, 0.0000e+00, 0.0000e+00, 4.0000e+01],\n",
       "        [1.9706e+05, 1.1000e+01, 0.0000e+00, 0.0000e+00, 5.0000e+01],\n",
       "        [2.2188e+05, 7.0000e+00, 0.0000e+00, 0.0000e+00, 4.0000e+01],\n",
       "        [2.0689e+05, 1.0000e+01, 0.0000e+00, 0.0000e+00, 5.0000e+01],\n",
       "        [2.3819e+05, 1.4000e+01, 0.0000e+00, 0.0000e+00, 3.5000e+01],\n",
       "        [3.0894e+05, 9.0000e+00, 0.0000e+00, 0.0000e+00, 7.5000e+01],\n",
       "        [2.0542e+05, 1.0000e+01, 0.0000e+00, 0.0000e+00, 6.5000e+01],\n",
       "        [1.8506e+05, 9.0000e+00, 0.0000e+00, 0.0000e+00, 3.5000e+01],\n",
       "        [1.3062e+05, 8.0000e+00, 0.0000e+00, 0.0000e+00, 3.3000e+01],\n",
       "        [3.8596e+05, 9.0000e+00, 0.0000e+00, 0.0000e+00, 5.0000e+01],\n",
       "        [1.6807e+05, 9.0000e+00, 0.0000e+00, 0.0000e+00, 4.3000e+01],\n",
       "        [1.3269e+05, 8.0000e+00, 0.0000e+00, 0.0000e+00, 5.0000e+01],\n",
       "        [2.1341e+05, 1.0000e+01, 0.0000e+00, 0.0000e+00, 4.0000e+01],\n",
       "        [2.4412e+05, 9.0000e+00, 0.0000e+00, 0.0000e+00, 3.0000e+01],\n",
       "        [2.5241e+05, 9.0000e+00, 0.0000e+00, 0.0000e+00, 4.0000e+01],\n",
       "        [2.7620e+04, 9.0000e+00, 0.0000e+00, 0.0000e+00, 2.5000e+01],\n",
       "        [1.7708e+05, 1.4000e+01, 0.0000e+00, 0.0000e+00, 3.5000e+01],\n",
       "        [5.9313e+04, 1.0000e+01, 0.0000e+00, 0.0000e+00, 4.0000e+01],\n",
       "        [2.1700e+05, 9.0000e+00, 0.0000e+00, 0.0000e+00, 4.5000e+01],\n",
       "        [2.3953e+05, 7.0000e+00, 3.6740e+03, 0.0000e+00, 3.5000e+01],\n",
       "        [1.4202e+05, 1.0000e+01, 0.0000e+00, 0.0000e+00, 5.0000e+01],\n",
       "        [1.1636e+05, 9.0000e+00, 0.0000e+00, 0.0000e+00, 2.0000e+01],\n",
       "        [1.2848e+05, 9.0000e+00, 0.0000e+00, 0.0000e+00, 6.0000e+01],\n",
       "        [1.7749e+05, 9.0000e+00, 0.0000e+00, 0.0000e+00, 4.0000e+01],\n",
       "        [9.6219e+04, 1.3000e+01, 0.0000e+00, 0.0000e+00, 5.0000e+00],\n",
       "        [3.8397e+04, 9.0000e+00, 0.0000e+00, 0.0000e+00, 4.0000e+01],\n",
       "        [3.6696e+05, 1.3000e+01, 9.9999e+04, 0.0000e+00, 5.0000e+01],\n",
       "        [2.0354e+05, 9.0000e+00, 0.0000e+00, 0.0000e+00, 4.0000e+01],\n",
       "        [3.1195e+04, 9.0000e+00, 0.0000e+00, 0.0000e+00, 2.0000e+01],\n",
       "        [2.2761e+05, 6.0000e+00, 0.0000e+00, 0.0000e+00, 5.8000e+01],\n",
       "        [1.6037e+05, 1.4000e+01, 0.0000e+00, 2.4150e+03, 4.5000e+01],\n",
       "        [3.6340e+04, 9.0000e+00, 0.0000e+00, 0.0000e+00, 2.4000e+01],\n",
       "        [1.3634e+05, 1.3000e+01, 0.0000e+00, 0.0000e+00, 4.0000e+01],\n",
       "        [9.8361e+04, 1.4000e+01, 0.0000e+00, 0.0000e+00, 4.0000e+01],\n",
       "        [2.1384e+05, 1.0000e+01, 0.0000e+00, 0.0000e+00, 4.0000e+01],\n",
       "        [1.7718e+05, 4.0000e+00, 0.0000e+00, 0.0000e+00, 4.0000e+01],\n",
       "        [1.9163e+05, 9.0000e+00, 2.1740e+03, 0.0000e+00, 4.0000e+01],\n",
       "        [1.9410e+05, 9.0000e+00, 0.0000e+00, 0.0000e+00, 4.0000e+01],\n",
       "        [5.7052e+04, 9.0000e+00, 2.8850e+03, 0.0000e+00, 4.0000e+01],\n",
       "        [3.9377e+05, 1.1000e+01, 0.0000e+00, 0.0000e+00, 4.0000e+01],\n",
       "        [3.1253e+05, 1.3000e+01, 0.0000e+00, 0.0000e+00, 3.7000e+01],\n",
       "        [1.9029e+05, 1.3000e+01, 0.0000e+00, 0.0000e+00, 4.0000e+01],\n",
       "        [1.6232e+05, 1.1000e+01, 0.0000e+00, 0.0000e+00, 4.0000e+01],\n",
       "        [1.2013e+05, 1.4000e+01, 0.0000e+00, 0.0000e+00, 6.0000e+01],\n",
       "        [2.8572e+04, 9.0000e+00, 0.0000e+00, 0.0000e+00, 4.8000e+01],\n",
       "        [2.2258e+05, 9.0000e+00, 0.0000e+00, 0.0000e+00, 4.0000e+01],\n",
       "        [2.3787e+05, 9.0000e+00, 0.0000e+00, 0.0000e+00, 4.0000e+01],\n",
       "        [1.9653e+05, 1.0000e+01, 2.3540e+03, 0.0000e+00, 4.0000e+01],\n",
       "        [2.4899e+05, 6.0000e+00, 0.0000e+00, 0.0000e+00, 4.0000e+01],\n",
       "        [1.4722e+05, 1.0000e+01, 0.0000e+00, 0.0000e+00, 3.0000e+01],\n",
       "        [2.7839e+05, 1.0000e+01, 0.0000e+00, 0.0000e+00, 2.5000e+01],\n",
       "        [1.7730e+05, 1.0000e+01, 0.0000e+00, 2.3770e+03, 4.0000e+01],\n",
       "        [1.0992e+05, 4.0000e+00, 0.0000e+00, 0.0000e+00, 4.0000e+01],\n",
       "        [4.4915e+04, 1.4000e+01, 0.0000e+00, 0.0000e+00, 1.0000e+01],\n",
       "        [2.2697e+05, 4.0000e+00, 0.0000e+00, 0.0000e+00, 4.0000e+01],\n",
       "        [1.7863e+05, 1.0000e+01, 0.0000e+00, 0.0000e+00, 4.0000e+01],\n",
       "        [4.2163e+05, 1.0000e+01, 0.0000e+00, 0.0000e+00, 3.0000e+01],\n",
       "        [4.6385e+04, 9.0000e+00, 0.0000e+00, 0.0000e+00, 4.0000e+01],\n",
       "        [2.9887e+04, 9.0000e+00, 0.0000e+00, 0.0000e+00, 4.4000e+01],\n",
       "        [1.9686e+05, 1.4000e+01, 0.0000e+00, 0.0000e+00, 3.5000e+01],\n",
       "        [3.0242e+05, 1.0000e+01, 0.0000e+00, 0.0000e+00, 4.0000e+01],\n",
       "        [2.0754e+05, 1.6000e+01, 0.0000e+00, 0.0000e+00, 4.0000e+01],\n",
       "        [3.7289e+04, 1.4000e+01, 0.0000e+00, 0.0000e+00, 4.0000e+01],\n",
       "        [2.8268e+05, 1.4000e+01, 0.0000e+00, 0.0000e+00, 2.0000e+01],\n",
       "        [1.0483e+05, 1.4000e+01, 0.0000e+00, 1.6690e+03, 4.0000e+01],\n",
       "        [9.8776e+04, 9.0000e+00, 0.0000e+00, 0.0000e+00, 1.5000e+01],\n",
       "        [1.3947e+05, 1.0000e+01, 0.0000e+00, 0.0000e+00, 2.5000e+01],\n",
       "        [1.7329e+05, 9.0000e+00, 0.0000e+00, 0.0000e+00, 4.0000e+01],\n",
       "        [2.1295e+05, 1.0000e+01, 0.0000e+00, 0.0000e+00, 6.0000e+01],\n",
       "        [3.1267e+04, 9.0000e+00, 0.0000e+00, 0.0000e+00, 5.0000e+01],\n",
       "        [2.1672e+05, 9.0000e+00, 0.0000e+00, 0.0000e+00, 4.0000e+01],\n",
       "        [1.0344e+05, 9.0000e+00, 0.0000e+00, 0.0000e+00, 5.0000e+01],\n",
       "        [1.2396e+05, 9.0000e+00, 0.0000e+00, 0.0000e+00, 3.2000e+01],\n",
       "        [1.1023e+05, 1.4000e+01, 0.0000e+00, 0.0000e+00, 6.5000e+01],\n",
       "        [9.8418e+04, 1.5000e+01, 9.9999e+04, 0.0000e+00, 4.0000e+01],\n",
       "        [1.5026e+05, 1.6000e+01, 0.0000e+00, 0.0000e+00, 2.0000e+01],\n",
       "        [1.7866e+05, 1.2000e+01, 0.0000e+00, 0.0000e+00, 4.0000e+01],\n",
       "        [3.8554e+05, 6.0000e+00, 0.0000e+00, 0.0000e+00, 4.0000e+01],\n",
       "        [1.6762e+05, 9.0000e+00, 0.0000e+00, 0.0000e+00, 4.0000e+01],\n",
       "        [1.8444e+05, 1.0000e+01, 3.4640e+03, 0.0000e+00, 4.0000e+01],\n",
       "        [3.1598e+05, 9.0000e+00, 7.6880e+03, 0.0000e+00, 5.0000e+01],\n",
       "        [2.2485e+05, 9.0000e+00, 0.0000e+00, 0.0000e+00, 4.0000e+01],\n",
       "        [2.6266e+05, 1.3000e+01, 0.0000e+00, 0.0000e+00, 4.0000e+01],\n",
       "        [1.5398e+05, 9.0000e+00, 0.0000e+00, 0.0000e+00, 6.0000e+01],\n",
       "        [1.7964e+05, 1.3000e+01, 0.0000e+00, 0.0000e+00, 4.5000e+01],\n",
       "        [2.5817e+05, 9.0000e+00, 0.0000e+00, 0.0000e+00, 3.8000e+01],\n",
       "        [1.6228e+05, 1.1000e+01, 0.0000e+00, 0.0000e+00, 4.0000e+01],\n",
       "        [2.7848e+05, 1.0000e+01, 0.0000e+00, 0.0000e+00, 6.0000e+01],\n",
       "        [1.9875e+05, 1.3000e+01, 0.0000e+00, 0.0000e+00, 4.0000e+01],\n",
       "        [9.2215e+04, 5.0000e+00, 0.0000e+00, 0.0000e+00, 4.0000e+01],\n",
       "        [2.4697e+05, 1.1000e+01, 0.0000e+00, 0.0000e+00, 4.0000e+01],\n",
       "        [1.2224e+05, 9.0000e+00, 0.0000e+00, 0.0000e+00, 2.8000e+01],\n",
       "        [1.6030e+05, 9.0000e+00, 0.0000e+00, 0.0000e+00, 4.0000e+01],\n",
       "        [2.1691e+05, 6.0000e+00, 0.0000e+00, 0.0000e+00, 4.0000e+01],\n",
       "        [1.4964e+05, 1.3000e+01, 0.0000e+00, 0.0000e+00, 4.5000e+01],\n",
       "        [8.2393e+04, 9.0000e+00, 0.0000e+00, 0.0000e+00, 2.5000e+01],\n",
       "        [2.6120e+05, 4.0000e+00, 0.0000e+00, 0.0000e+00, 3.5000e+01],\n",
       "        [3.4937e+05, 1.3000e+01, 0.0000e+00, 0.0000e+00, 3.0000e+01],\n",
       "        [9.7969e+04, 2.0000e+00, 0.0000e+00, 0.0000e+00, 4.0000e+01],\n",
       "        [3.3047e+05, 1.3000e+01, 0.0000e+00, 0.0000e+00, 4.0000e+01],\n",
       "        [2.8793e+05, 9.0000e+00, 1.5024e+04, 0.0000e+00, 4.0000e+01]])"
      ]
     },
     "execution_count": 54,
     "metadata": {},
     "output_type": "execute_result"
    }
   ],
   "source": [
    "%%time\n",
    "total_idx_list = list(np.arange(total_rows))\n",
    "total_rows = len(df)\n",
    "select_rows =  list(np.random.choice(total_idx_list,batch_size))\n",
    "skip_rows = set(total_idx_list).difference(set(select_rows))\n",
    "skipped = np.asarray(list(skip_rows))\n",
    "# MAX >= number of rows in the file\n",
    "MAX = total_rows+1\n",
    "bool_skipped = np.zeros(MAX, dtype=bool)\n",
    "bool_skipped[skipped] = True\n",
    "one_row = load_with_buffer(path,bool_skipped,index_col=0)\n",
    "torch.FloatTensor(one_row.values)"
   ]
  },
  {
   "cell_type": "code",
   "execution_count": null,
   "metadata": {},
   "outputs": [],
   "source": []
  },
  {
   "cell_type": "code",
   "execution_count": 43,
   "metadata": {},
   "outputs": [
    {
     "name": "stdout",
     "output_type": "stream",
     "text": [
      "CPU times: user 32 ms, sys: 60 ms, total: 92 ms\n",
      "Wall time: 3.64 s\n"
     ]
    }
   ],
   "source": [
    "%%time\n",
    "_=next(iter(loader))"
   ]
  },
  {
   "cell_type": "code",
   "execution_count": 44,
   "metadata": {},
   "outputs": [],
   "source": [
    "total_df = pd.read_csv(\"./../data/adult_train.csv\")\n",
    "num_cols = list(total_df.select_dtypes(\"number\"))\n",
    "target_cols  = [\"income_bracket\"]\n",
    "total_columns = num_cols + target_cols\n",
    "df = total_df[total_columns]\n",
    "y = df[target_cols[0]]\n",
    "X = df[num_cols]\n",
    "dataset = TabularNumDataset(X,y)\n",
    "loader = DataLoader(dataset , batch_size=batch_size , shuffle=True,num_workers =num_workers)"
   ]
  },
  {
   "cell_type": "code",
   "execution_count": 45,
   "metadata": {},
   "outputs": [
    {
     "name": "stdout",
     "output_type": "stream",
     "text": [
      "CPU times: user 24 ms, sys: 60 ms, total: 84 ms\n",
      "Wall time: 124 ms\n"
     ]
    }
   ],
   "source": [
    "%%time\n",
    "_=next(iter(loader))"
   ]
  },
  {
   "cell_type": "code",
   "execution_count": null,
   "metadata": {},
   "outputs": [],
   "source": []
  }
 ],
 "metadata": {
  "interpreter": {
   "hash": "5b465412307b7668296daf78385c90232ab589794bc4bbfa955c266854cbcc3b"
  },
  "kernelspec": {
   "display_name": "Python 3.8.12 64-bit ('ndf': conda)",
   "language": "python",
   "name": "python3"
  },
  "language_info": {
   "codemirror_mode": {
    "name": "ipython",
    "version": 3
   },
   "file_extension": ".py",
   "mimetype": "text/x-python",
   "name": "python",
   "nbconvert_exporter": "python",
   "pygments_lexer": "ipython3",
   "version": "3.8.12"
  },
  "orig_nbformat": 4
 },
 "nbformat": 4,
 "nbformat_minor": 2
}
